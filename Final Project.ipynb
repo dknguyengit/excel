{
 "cells": [
  {
   "cell_type": "code",
   "execution_count": 1,
   "metadata": {},
   "outputs": [],
   "source": [
    "import numpy as np\n",
    "import pandas as pd\n",
    "import matplotlib.pyplot as plt\n",
    "from sklearn.metrics import roc_curve, roc_auc_score"
   ]
  },
  {
   "cell_type": "markdown",
   "metadata": {},
   "source": [
    "# Quiz 1"
   ]
  },
  {
   "cell_type": "markdown",
   "metadata": {},
   "source": [
    "**Q1:** Age + Years at current employer + Years at current address + Income over the past year - Current credit card debt - Current automobile debt"
   ]
  },
  {
   "cell_type": "markdown",
   "metadata": {},
   "source": [
    "**Q2:**"
   ]
  },
  {
   "cell_type": "code",
   "execution_count": 33,
   "metadata": {},
   "outputs": [],
   "source": [
    "train = pd.read_csv('train_final.csv', header=None)"
   ]
  },
  {
   "cell_type": "code",
   "execution_count": 35,
   "metadata": {},
   "outputs": [],
   "source": [
    "train.columns = ['id', 'age', 'employ', 'address', 'income', 'ccdebt', 'cardebt', 'label']"
   ]
  },
  {
   "cell_type": "code",
   "execution_count": 36,
   "metadata": {},
   "outputs": [],
   "source": [
    "train['score'] = - train['age'] - train['employ'] + train['address'] - train['income'] - train['ccdebt'] - train['cardebt']"
   ]
  },
  {
   "cell_type": "code",
   "execution_count": 37,
   "metadata": {},
   "outputs": [],
   "source": [
    "train = train.sort_values(by='score', ascending=False).reset_index(drop=True)"
   ]
  },
  {
   "cell_type": "code",
   "execution_count": 6,
   "metadata": {},
   "outputs": [
    {
     "data": {
      "text/plain": [
       "(50, 150)"
      ]
     },
     "execution_count": 6,
     "metadata": {},
     "output_type": "execute_result"
    }
   ],
   "source": [
    "pos_count = (train['label'] == 1).sum()\n",
    "neg_count = (train['label'] == 0).sum()\n",
    "pos_count, neg_count"
   ]
  },
  {
   "cell_type": "code",
   "execution_count": 7,
   "metadata": {},
   "outputs": [],
   "source": [
    "sorted_labels = list(train.sort_values(by='score', ascending=False)['label'])"
   ]
  },
  {
   "cell_type": "code",
   "execution_count": 8,
   "metadata": {},
   "outputs": [],
   "source": [
    "pos_true = 0\n",
    "pos_false = 0\n",
    "tpr = []\n",
    "fpr = []\n",
    "for index, label in enumerate(sorted_labels):\n",
    "    if label == 1:\n",
    "        pos_true += 1\n",
    "    else:\n",
    "        pos_false += 1\n",
    "    tpr.append(pos_true/pos_count)\n",
    "    fpr.append(pos_false/neg_count)"
   ]
  },
  {
   "cell_type": "code",
   "execution_count": 9,
   "metadata": {},
   "outputs": [
    {
     "data": {
      "text/plain": [
       "(0, 0.05)"
      ]
     },
     "execution_count": 9,
     "metadata": {},
     "output_type": "execute_result"
    },
    {
     "data": {
      "image/png": "[encoded data removed]",
      "text/plain": [
       "<Figure size 432x288 with 1 Axes>"
      ]
     },
     "metadata": {},
     "output_type": "display_data"
    }
   ],
   "source": [
    "plt.scatter(fpr, tpr)\n",
    "plt.xlim([0, 0.1])\n",
    "plt.ylim([0, 0.05])"
   ]
  },
  {
   "cell_type": "code",
   "execution_count": 10,
   "metadata": {},
   "outputs": [
    {
     "data": {
      "text/plain": [
       "0.7814666666666673"
      ]
     },
     "execution_count": 10,
     "metadata": {},
     "output_type": "execute_result"
    }
   ],
   "source": [
    "auc = sum(pd.Series(fpr).diff(1).fillna(0) * pd.Series(tpr))\n",
    "auc"
   ]
  },
  {
   "cell_type": "code",
   "execution_count": 11,
   "metadata": {},
   "outputs": [
    {
     "data": {
      "text/plain": [
       "0.7814666666666666"
      ]
     },
     "execution_count": 11,
     "metadata": {},
     "output_type": "execute_result"
    }
   ],
   "source": [
    "roc_auc_score(train['label'], train['score'])"
   ]
  },
  {
   "cell_type": "markdown",
   "metadata": {},
   "source": [
    "**Q3:**"
   ]
  },
  {
   "cell_type": "code",
   "execution_count": 12,
   "metadata": {},
   "outputs": [],
   "source": [
    "def score(df):\n",
    "    df = df.copy()\n",
    "    df['score'] = - df['age'] - df['employ'] + df['address'] - df['income'] - df['ccdebt'] - df['cardebt']\n",
    "    return df.sort_values(by='score', ascending=False).reset_index(drop=True)"
   ]
  },
  {
   "cell_type": "code",
   "execution_count": 13,
   "metadata": {},
   "outputs": [],
   "source": [
    "def count_pos(df):\n",
    "    sorted_labels = list(df.sort_values(by='score', ascending=False)['label'])\n",
    "    pos_true_count = 0\n",
    "    pos_false_count = 0\n",
    "    pos_true_counts = []\n",
    "    pos_false_counts = []\n",
    "    for index, label in enumerate(sorted_labels):\n",
    "        if label == 1:\n",
    "            pos_true_count += 1\n",
    "        else:\n",
    "            pos_false_count += 1\n",
    "        pos_true_counts.append(pos_true_count)\n",
    "        pos_false_counts.append(pos_false_count)\n",
    "    return pos_true_counts, pos_false_counts"
   ]
  },
  {
   "cell_type": "code",
   "execution_count": 14,
   "metadata": {},
   "outputs": [],
   "source": [
    "def calculate_auc(df):\n",
    "    pos_count = (df['label'] == 1).sum()\n",
    "    neg_count = (df['label'] == 0).sum()\n",
    "    tpc, fpc = count_pos(df)\n",
    "    tpr = [count / pos_count for count in tpc]\n",
    "    fpr = [count / neg_count for count in fpc]\n",
    "    auc = sum(pd.Series(fpr).diff(1).fillna(0) * pd.Series(tpr))\n",
    "    return auc"
   ]
  },
  {
   "cell_type": "code",
   "execution_count": 15,
   "metadata": {},
   "outputs": [],
   "source": [
    "test = pd.read_csv('test_final.csv', header=None)"
   ]
  },
  {
   "cell_type": "code",
   "execution_count": 16,
   "metadata": {},
   "outputs": [],
   "source": [
    "test.columns = ['id', 'age', 'employ', 'address', 'income', 'ccdebt', 'cardebt', 'label']"
   ]
  },
  {
   "cell_type": "code",
   "execution_count": 17,
   "metadata": {},
   "outputs": [],
   "source": [
    "test = score(test)"
   ]
  },
  {
   "cell_type": "code",
   "execution_count": 18,
   "metadata": {
    "scrolled": true
   },
   "outputs": [
    {
     "data": {
      "text/plain": [
       "0.7766666666666666"
      ]
     },
     "execution_count": 18,
     "metadata": {},
     "output_type": "execute_result"
    }
   ],
   "source": [
    "calculate_auc(test)"
   ]
  },
  {
   "cell_type": "markdown",
   "metadata": {},
   "source": [
    "**Q4:** Find cost minimizing threshold"
   ]
  },
  {
   "cell_type": "code",
   "execution_count": 19,
   "metadata": {},
   "outputs": [],
   "source": [
    "fn_cost = 5000\n",
    "fp_cost = 2500\n",
    "pos_total = (train['label'] == 1).sum()"
   ]
  },
  {
   "cell_type": "code",
   "execution_count": 93,
   "metadata": {},
   "outputs": [],
   "source": [
    "def calculate_cost(df, fn_cost=5000, fp_cost=2500):\n",
    "    pos_total = (df['label'] == 1).sum()\n",
    "    tpc, fpc = count_pos(df)\n",
    "    fnc = pos_total - pd.Series(tpc)\n",
    "    fpc = pd.Series(fpc)\n",
    "    cost_df = pd.concat([fnc, fpc, df['score'], df['label']], axis=1)\n",
    "    cost_df.columns = ['fn', 'fp', 'score', 'label']\n",
    "    cost_df['fn_cost'] = cost_df['fn'] * fn_cost\n",
    "    cost_df['fp_cost'] = cost_df['fp'] * fp_cost\n",
    "    cost_df['total_cost'] = cost_df['fn_cost'] + cost_df['fp_cost']\n",
    "    return cost_df"
   ]
  },
  {
   "cell_type": "code",
   "execution_count": 94,
   "metadata": {
    "scrolled": true
   },
   "outputs": [],
   "source": [
    "train_cost = calculate_cost(train)"
   ]
  },
  {
   "cell_type": "code",
   "execution_count": 95,
   "metadata": {
    "scrolled": true
   },
   "outputs": [
    {
     "data": {
      "text/plain": [
       "<matplotlib.collections.PathCollection at 0x7f0dee1f6fd0>"
      ]
     },
     "execution_count": 95,
     "metadata": {},
     "output_type": "execute_result"
    },
    {
     "data": {
      "image/png": "[encoded data removed]",
      "text/plain": [
       "<Figure size 432x288 with 1 Axes>"
      ]
     },
     "metadata": {},
     "output_type": "display_data"
    }
   ],
   "source": [
    "plt.scatter(x=range(len(train_cost)), y=train_cost['total_cost'])"
   ]
  },
  {
   "cell_type": "code",
   "execution_count": 63,
   "metadata": {
    "scrolled": true
   },
   "outputs": [
    {
     "data": {
      "text/plain": [
       "1.3092582415882994"
      ]
     },
     "execution_count": 63,
     "metadata": {},
     "output_type": "execute_result"
    }
   ],
   "source": [
    "train_threshold = train_cost.loc[train_cost.idxmin()['total_cost']]\n",
    "train_threshold['score']"
   ]
  },
  {
   "cell_type": "markdown",
   "metadata": {},
   "source": [
    "**Q5:** Find cost per event for threshold"
   ]
  },
  {
   "cell_type": "code",
   "execution_count": 24,
   "metadata": {},
   "outputs": [
    {
     "data": {
      "text/plain": [
       "725.0"
      ]
     },
     "execution_count": 24,
     "metadata": {},
     "output_type": "execute_result"
    }
   ],
   "source": [
    "train_threshold['total_cost'] / len(train)"
   ]
  },
  {
   "cell_type": "markdown",
   "metadata": {},
   "source": [
    "**Q6:** Use train threshold to predict labels for test set"
   ]
  },
  {
   "cell_type": "code",
   "execution_count": 25,
   "metadata": {
    "scrolled": true
   },
   "outputs": [
    {
     "data": {
      "text/html": [
       "<div>\n",
       "<style scoped>\n",
       "    .dataframe tbody tr th:only-of-type {\n",
       "        vertical-align: middle;\n",
       "    }\n",
       "\n",
       "    .dataframe tbody tr th {\n",
       "        vertical-align: top;\n",
       "    }\n",
       "\n",
       "    .dataframe thead th {\n",
       "        text-align: right;\n",
       "    }\n",
       "</style>\n",
       "<table border=\"1\" class=\"dataframe\">\n",
       "  <thead>\n",
       "    <tr style=\"text-align: right;\">\n",
       "      <th></th>\n",
       "      <th>id</th>\n",
       "      <th>age</th>\n",
       "      <th>employ</th>\n",
       "      <th>address</th>\n",
       "      <th>income</th>\n",
       "      <th>ccdebt</th>\n",
       "      <th>cardebt</th>\n",
       "      <th>label</th>\n",
       "      <th>score</th>\n",
       "      <th>pred</th>\n",
       "    </tr>\n",
       "  </thead>\n",
       "  <tbody>\n",
       "    <tr>\n",
       "      <th>0</th>\n",
       "      <td>246</td>\n",
       "      <td>-0.963905</td>\n",
       "      <td>-0.842530</td>\n",
       "      <td>1.872879</td>\n",
       "      <td>-0.117654</td>\n",
       "      <td>-2.096558</td>\n",
       "      <td>-0.307024</td>\n",
       "      <td>1</td>\n",
       "      <td>6.200550</td>\n",
       "      <td>1</td>\n",
       "    </tr>\n",
       "    <tr>\n",
       "      <th>1</th>\n",
       "      <td>220</td>\n",
       "      <td>-1.291959</td>\n",
       "      <td>-0.429934</td>\n",
       "      <td>0.657363</td>\n",
       "      <td>-0.047444</td>\n",
       "      <td>-2.172531</td>\n",
       "      <td>-0.686444</td>\n",
       "      <td>1</td>\n",
       "      <td>5.285674</td>\n",
       "      <td>1</td>\n",
       "    </tr>\n",
       "    <tr>\n",
       "      <th>2</th>\n",
       "      <td>339</td>\n",
       "      <td>-0.737364</td>\n",
       "      <td>-0.509756</td>\n",
       "      <td>1.045394</td>\n",
       "      <td>0.786969</td>\n",
       "      <td>-0.779929</td>\n",
       "      <td>-2.323567</td>\n",
       "      <td>1</td>\n",
       "      <td>4.609041</td>\n",
       "      <td>1</td>\n",
       "    </tr>\n",
       "    <tr>\n",
       "      <th>3</th>\n",
       "      <td>373</td>\n",
       "      <td>-1.053619</td>\n",
       "      <td>-1.177311</td>\n",
       "      <td>2.370474</td>\n",
       "      <td>-0.788595</td>\n",
       "      <td>0.551223</td>\n",
       "      <td>0.335295</td>\n",
       "      <td>1</td>\n",
       "      <td>4.503481</td>\n",
       "      <td>1</td>\n",
       "    </tr>\n",
       "    <tr>\n",
       "      <th>4</th>\n",
       "      <td>381</td>\n",
       "      <td>-0.941804</td>\n",
       "      <td>-1.236030</td>\n",
       "      <td>1.826402</td>\n",
       "      <td>-0.847735</td>\n",
       "      <td>0.435095</td>\n",
       "      <td>0.096392</td>\n",
       "      <td>1</td>\n",
       "      <td>4.320484</td>\n",
       "      <td>1</td>\n",
       "    </tr>\n",
       "    <tr>\n",
       "      <th>5</th>\n",
       "      <td>244</td>\n",
       "      <td>1.707522</td>\n",
       "      <td>0.934898</td>\n",
       "      <td>-0.630013</td>\n",
       "      <td>4.857578</td>\n",
       "      <td>-6.781217</td>\n",
       "      <td>-5.580227</td>\n",
       "      <td>1</td>\n",
       "      <td>4.231434</td>\n",
       "      <td>1</td>\n",
       "    </tr>\n",
       "    <tr>\n",
       "      <th>6</th>\n",
       "      <td>232</td>\n",
       "      <td>-0.067112</td>\n",
       "      <td>-0.333885</td>\n",
       "      <td>3.769480</td>\n",
       "      <td>-0.403986</td>\n",
       "      <td>0.649648</td>\n",
       "      <td>-0.296652</td>\n",
       "      <td>0</td>\n",
       "      <td>4.221468</td>\n",
       "      <td>1</td>\n",
       "    </tr>\n",
       "    <tr>\n",
       "      <th>7</th>\n",
       "      <td>358</td>\n",
       "      <td>-0.820323</td>\n",
       "      <td>-1.155353</td>\n",
       "      <td>0.184450</td>\n",
       "      <td>-0.526398</td>\n",
       "      <td>-0.368936</td>\n",
       "      <td>-0.996954</td>\n",
       "      <td>1</td>\n",
       "      <td>4.052414</td>\n",
       "      <td>1</td>\n",
       "    </tr>\n",
       "    <tr>\n",
       "      <th>8</th>\n",
       "      <td>302</td>\n",
       "      <td>-1.001490</td>\n",
       "      <td>-0.904701</td>\n",
       "      <td>2.476658</td>\n",
       "      <td>-0.611676</td>\n",
       "      <td>0.526525</td>\n",
       "      <td>0.680671</td>\n",
       "      <td>0</td>\n",
       "      <td>3.787328</td>\n",
       "      <td>1</td>\n",
       "    </tr>\n",
       "    <tr>\n",
       "      <th>9</th>\n",
       "      <td>393</td>\n",
       "      <td>-0.049167</td>\n",
       "      <td>-1.033303</td>\n",
       "      <td>1.585776</td>\n",
       "      <td>-0.458126</td>\n",
       "      <td>-0.603614</td>\n",
       "      <td>0.101689</td>\n",
       "      <td>1</td>\n",
       "      <td>3.628296</td>\n",
       "      <td>1</td>\n",
       "    </tr>\n",
       "    <tr>\n",
       "      <th>10</th>\n",
       "      <td>222</td>\n",
       "      <td>-0.536482</td>\n",
       "      <td>0.047760</td>\n",
       "      <td>0.501081</td>\n",
       "      <td>0.319656</td>\n",
       "      <td>-2.152566</td>\n",
       "      <td>-0.804157</td>\n",
       "      <td>1</td>\n",
       "      <td>3.626870</td>\n",
       "      <td>1</td>\n",
       "    </tr>\n",
       "    <tr>\n",
       "      <th>11</th>\n",
       "      <td>262</td>\n",
       "      <td>1.477928</td>\n",
       "      <td>-0.932418</td>\n",
       "      <td>2.849128</td>\n",
       "      <td>-0.401115</td>\n",
       "      <td>-0.625332</td>\n",
       "      <td>-0.274018</td>\n",
       "      <td>0</td>\n",
       "      <td>3.604082</td>\n",
       "      <td>1</td>\n",
       "    </tr>\n",
       "    <tr>\n",
       "      <th>12</th>\n",
       "      <td>312</td>\n",
       "      <td>-1.105163</td>\n",
       "      <td>-1.105659</td>\n",
       "      <td>1.994811</td>\n",
       "      <td>-0.743219</td>\n",
       "      <td>0.643166</td>\n",
       "      <td>0.922355</td>\n",
       "      <td>0</td>\n",
       "      <td>3.383331</td>\n",
       "      <td>1</td>\n",
       "    </tr>\n",
       "    <tr>\n",
       "      <th>13</th>\n",
       "      <td>206</td>\n",
       "      <td>-0.513433</td>\n",
       "      <td>-0.156314</td>\n",
       "      <td>2.755109</td>\n",
       "      <td>-0.819001</td>\n",
       "      <td>0.508607</td>\n",
       "      <td>0.415869</td>\n",
       "      <td>0</td>\n",
       "      <td>3.319382</td>\n",
       "      <td>1</td>\n",
       "    </tr>\n",
       "    <tr>\n",
       "      <th>14</th>\n",
       "      <td>320</td>\n",
       "      <td>-1.468190</td>\n",
       "      <td>-1.256761</td>\n",
       "      <td>1.000159</td>\n",
       "      <td>-0.616798</td>\n",
       "      <td>0.531980</td>\n",
       "      <td>0.572581</td>\n",
       "      <td>0</td>\n",
       "      <td>3.237346</td>\n",
       "      <td>1</td>\n",
       "    </tr>\n",
       "    <tr>\n",
       "      <th>15</th>\n",
       "      <td>291</td>\n",
       "      <td>-2.165733</td>\n",
       "      <td>-1.185266</td>\n",
       "      <td>-0.163354</td>\n",
       "      <td>-0.774892</td>\n",
       "      <td>0.468448</td>\n",
       "      <td>0.561454</td>\n",
       "      <td>1</td>\n",
       "      <td>2.932636</td>\n",
       "      <td>1</td>\n",
       "    </tr>\n",
       "    <tr>\n",
       "      <th>16</th>\n",
       "      <td>237</td>\n",
       "      <td>-2.023354</td>\n",
       "      <td>-1.250983</td>\n",
       "      <td>-0.659866</td>\n",
       "      <td>-0.829586</td>\n",
       "      <td>0.298322</td>\n",
       "      <td>0.288927</td>\n",
       "      <td>0</td>\n",
       "      <td>2.856808</td>\n",
       "      <td>1</td>\n",
       "    </tr>\n",
       "    <tr>\n",
       "      <th>17</th>\n",
       "      <td>387</td>\n",
       "      <td>0.283706</td>\n",
       "      <td>0.263576</td>\n",
       "      <td>1.254194</td>\n",
       "      <td>-0.410018</td>\n",
       "      <td>0.158575</td>\n",
       "      <td>-1.897011</td>\n",
       "      <td>0</td>\n",
       "      <td>2.855367</td>\n",
       "      <td>1</td>\n",
       "    </tr>\n",
       "    <tr>\n",
       "      <th>18</th>\n",
       "      <td>225</td>\n",
       "      <td>-2.207424</td>\n",
       "      <td>-1.278465</td>\n",
       "      <td>-0.267925</td>\n",
       "      <td>-0.730249</td>\n",
       "      <td>0.666940</td>\n",
       "      <td>0.536682</td>\n",
       "      <td>0</td>\n",
       "      <td>2.744590</td>\n",
       "      <td>1</td>\n",
       "    </tr>\n",
       "    <tr>\n",
       "      <th>19</th>\n",
       "      <td>322</td>\n",
       "      <td>0.857205</td>\n",
       "      <td>3.421872</td>\n",
       "      <td>-0.339866</td>\n",
       "      <td>2.424447</td>\n",
       "      <td>-6.063025</td>\n",
       "      <td>-3.721795</td>\n",
       "      <td>1</td>\n",
       "      <td>2.741430</td>\n",
       "      <td>1</td>\n",
       "    </tr>\n",
       "    <tr>\n",
       "      <th>20</th>\n",
       "      <td>263</td>\n",
       "      <td>-0.723605</td>\n",
       "      <td>-0.611880</td>\n",
       "      <td>-0.459318</td>\n",
       "      <td>-0.256136</td>\n",
       "      <td>-0.792876</td>\n",
       "      <td>-0.769822</td>\n",
       "      <td>0</td>\n",
       "      <td>2.695002</td>\n",
       "      <td>1</td>\n",
       "    </tr>\n",
       "    <tr>\n",
       "      <th>21</th>\n",
       "      <td>317</td>\n",
       "      <td>0.152974</td>\n",
       "      <td>-0.511857</td>\n",
       "      <td>1.688282</td>\n",
       "      <td>-0.447806</td>\n",
       "      <td>-0.172785</td>\n",
       "      <td>-0.016599</td>\n",
       "      <td>0</td>\n",
       "      <td>2.684355</td>\n",
       "      <td>1</td>\n",
       "    </tr>\n",
       "    <tr>\n",
       "      <th>22</th>\n",
       "      <td>350</td>\n",
       "      <td>-1.898849</td>\n",
       "      <td>-1.214032</td>\n",
       "      <td>-0.213668</td>\n",
       "      <td>-0.542548</td>\n",
       "      <td>-0.041022</td>\n",
       "      <td>0.836356</td>\n",
       "      <td>0</td>\n",
       "      <td>2.646427</td>\n",
       "      <td>1</td>\n",
       "    </tr>\n",
       "    <tr>\n",
       "      <th>23</th>\n",
       "      <td>376</td>\n",
       "      <td>-1.383126</td>\n",
       "      <td>-0.648039</td>\n",
       "      <td>1.115559</td>\n",
       "      <td>-0.647039</td>\n",
       "      <td>0.518489</td>\n",
       "      <td>0.652325</td>\n",
       "      <td>0</td>\n",
       "      <td>2.622949</td>\n",
       "      <td>1</td>\n",
       "    </tr>\n",
       "    <tr>\n",
       "      <th>24</th>\n",
       "      <td>346</td>\n",
       "      <td>-0.503692</td>\n",
       "      <td>-0.513313</td>\n",
       "      <td>0.122071</td>\n",
       "      <td>-0.367051</td>\n",
       "      <td>-0.857612</td>\n",
       "      <td>-0.212471</td>\n",
       "      <td>1</td>\n",
       "      <td>2.576210</td>\n",
       "      <td>1</td>\n",
       "    </tr>\n",
       "    <tr>\n",
       "      <th>25</th>\n",
       "      <td>258</td>\n",
       "      <td>-1.692275</td>\n",
       "      <td>-0.842252</td>\n",
       "      <td>0.646374</td>\n",
       "      <td>-0.644430</td>\n",
       "      <td>0.550066</td>\n",
       "      <td>0.780994</td>\n",
       "      <td>1</td>\n",
       "      <td>2.494271</td>\n",
       "      <td>1</td>\n",
       "    </tr>\n",
       "    <tr>\n",
       "      <th>26</th>\n",
       "      <td>253</td>\n",
       "      <td>0.793147</td>\n",
       "      <td>1.322792</td>\n",
       "      <td>2.384111</td>\n",
       "      <td>0.701670</td>\n",
       "      <td>-2.396221</td>\n",
       "      <td>-0.498117</td>\n",
       "      <td>1</td>\n",
       "      <td>2.460840</td>\n",
       "      <td>1</td>\n",
       "    </tr>\n",
       "    <tr>\n",
       "      <th>27</th>\n",
       "      <td>380</td>\n",
       "      <td>0.609355</td>\n",
       "      <td>0.430145</td>\n",
       "      <td>-1.212778</td>\n",
       "      <td>1.074210</td>\n",
       "      <td>-1.679322</td>\n",
       "      <td>-4.069843</td>\n",
       "      <td>1</td>\n",
       "      <td>2.422677</td>\n",
       "      <td>1</td>\n",
       "    </tr>\n",
       "    <tr>\n",
       "      <th>28</th>\n",
       "      <td>251</td>\n",
       "      <td>-1.807117</td>\n",
       "      <td>-1.070469</td>\n",
       "      <td>-0.243411</td>\n",
       "      <td>-0.853597</td>\n",
       "      <td>0.673625</td>\n",
       "      <td>0.462102</td>\n",
       "      <td>0</td>\n",
       "      <td>2.352044</td>\n",
       "      <td>1</td>\n",
       "    </tr>\n",
       "    <tr>\n",
       "      <th>29</th>\n",
       "      <td>342</td>\n",
       "      <td>-1.384878</td>\n",
       "      <td>-1.275026</td>\n",
       "      <td>-0.027037</td>\n",
       "      <td>-0.833405</td>\n",
       "      <td>0.618078</td>\n",
       "      <td>0.531575</td>\n",
       "      <td>0</td>\n",
       "      <td>2.316618</td>\n",
       "      <td>1</td>\n",
       "    </tr>\n",
       "    <tr>\n",
       "      <th>...</th>\n",
       "      <td>...</td>\n",
       "      <td>...</td>\n",
       "      <td>...</td>\n",
       "      <td>...</td>\n",
       "      <td>...</td>\n",
       "      <td>...</td>\n",
       "      <td>...</td>\n",
       "      <td>...</td>\n",
       "      <td>...</td>\n",
       "      <td>...</td>\n",
       "    </tr>\n",
       "    <tr>\n",
       "      <th>170</th>\n",
       "      <td>340</td>\n",
       "      <td>2.937267</td>\n",
       "      <td>1.369416</td>\n",
       "      <td>-0.087661</td>\n",
       "      <td>0.850849</td>\n",
       "      <td>-1.408851</td>\n",
       "      <td>-1.310499</td>\n",
       "      <td>0</td>\n",
       "      <td>-2.525842</td>\n",
       "      <td>0</td>\n",
       "    </tr>\n",
       "    <tr>\n",
       "      <th>171</th>\n",
       "      <td>306</td>\n",
       "      <td>2.100696</td>\n",
       "      <td>-1.097569</td>\n",
       "      <td>-0.988590</td>\n",
       "      <td>-0.689422</td>\n",
       "      <td>0.692597</td>\n",
       "      <td>0.665716</td>\n",
       "      <td>0</td>\n",
       "      <td>-2.660608</td>\n",
       "      <td>0</td>\n",
       "    </tr>\n",
       "    <tr>\n",
       "      <th>172</th>\n",
       "      <td>278</td>\n",
       "      <td>1.761492</td>\n",
       "      <td>-0.027149</td>\n",
       "      <td>-0.932264</td>\n",
       "      <td>0.581942</td>\n",
       "      <td>0.095816</td>\n",
       "      <td>-0.670754</td>\n",
       "      <td>1</td>\n",
       "      <td>-2.673611</td>\n",
       "      <td>0</td>\n",
       "    </tr>\n",
       "    <tr>\n",
       "      <th>173</th>\n",
       "      <td>228</td>\n",
       "      <td>0.898991</td>\n",
       "      <td>0.466983</td>\n",
       "      <td>0.221971</td>\n",
       "      <td>0.960953</td>\n",
       "      <td>0.106789</td>\n",
       "      <td>0.484636</td>\n",
       "      <td>0</td>\n",
       "      <td>-2.696382</td>\n",
       "      <td>0</td>\n",
       "    </tr>\n",
       "    <tr>\n",
       "      <th>174</th>\n",
       "      <td>395</td>\n",
       "      <td>0.474206</td>\n",
       "      <td>0.900814</td>\n",
       "      <td>0.335568</td>\n",
       "      <td>0.714292</td>\n",
       "      <td>0.178053</td>\n",
       "      <td>0.903188</td>\n",
       "      <td>0</td>\n",
       "      <td>-2.834986</td>\n",
       "      <td>0</td>\n",
       "    </tr>\n",
       "    <tr>\n",
       "      <th>175</th>\n",
       "      <td>307</td>\n",
       "      <td>1.083873</td>\n",
       "      <td>1.175250</td>\n",
       "      <td>0.551526</td>\n",
       "      <td>0.842127</td>\n",
       "      <td>0.276076</td>\n",
       "      <td>0.013197</td>\n",
       "      <td>0</td>\n",
       "      <td>-2.838998</td>\n",
       "      <td>0</td>\n",
       "    </tr>\n",
       "    <tr>\n",
       "      <th>176</th>\n",
       "      <td>281</td>\n",
       "      <td>1.242483</td>\n",
       "      <td>-0.067128</td>\n",
       "      <td>-0.953473</td>\n",
       "      <td>0.620122</td>\n",
       "      <td>0.336026</td>\n",
       "      <td>-0.157164</td>\n",
       "      <td>0</td>\n",
       "      <td>-2.927812</td>\n",
       "      <td>0</td>\n",
       "    </tr>\n",
       "    <tr>\n",
       "      <th>177</th>\n",
       "      <td>365</td>\n",
       "      <td>1.667644</td>\n",
       "      <td>2.080671</td>\n",
       "      <td>0.273250</td>\n",
       "      <td>0.556278</td>\n",
       "      <td>-1.183167</td>\n",
       "      <td>0.086517</td>\n",
       "      <td>0</td>\n",
       "      <td>-2.934692</td>\n",
       "      <td>0</td>\n",
       "    </tr>\n",
       "    <tr>\n",
       "      <th>178</th>\n",
       "      <td>227</td>\n",
       "      <td>0.842519</td>\n",
       "      <td>1.924579</td>\n",
       "      <td>2.272079</td>\n",
       "      <td>2.054348</td>\n",
       "      <td>0.066330</td>\n",
       "      <td>0.370109</td>\n",
       "      <td>0</td>\n",
       "      <td>-2.985805</td>\n",
       "      <td>0</td>\n",
       "    </tr>\n",
       "    <tr>\n",
       "      <th>179</th>\n",
       "      <td>385</td>\n",
       "      <td>0.118779</td>\n",
       "      <td>1.431856</td>\n",
       "      <td>-0.715774</td>\n",
       "      <td>0.358515</td>\n",
       "      <td>0.197663</td>\n",
       "      <td>0.163606</td>\n",
       "      <td>0</td>\n",
       "      <td>-2.986194</td>\n",
       "      <td>0</td>\n",
       "    </tr>\n",
       "    <tr>\n",
       "      <th>180</th>\n",
       "      <td>388</td>\n",
       "      <td>1.064789</td>\n",
       "      <td>0.679609</td>\n",
       "      <td>1.798040</td>\n",
       "      <td>3.780397</td>\n",
       "      <td>-0.406196</td>\n",
       "      <td>-0.286584</td>\n",
       "      <td>0</td>\n",
       "      <td>-3.033974</td>\n",
       "      <td>0</td>\n",
       "    </tr>\n",
       "    <tr>\n",
       "      <th>181</th>\n",
       "      <td>319</td>\n",
       "      <td>-0.022908</td>\n",
       "      <td>0.686514</td>\n",
       "      <td>-0.864816</td>\n",
       "      <td>0.239555</td>\n",
       "      <td>0.518869</td>\n",
       "      <td>0.803872</td>\n",
       "      <td>0</td>\n",
       "      <td>-3.090719</td>\n",
       "      <td>0</td>\n",
       "    </tr>\n",
       "    <tr>\n",
       "      <th>182</th>\n",
       "      <td>384</td>\n",
       "      <td>0.466327</td>\n",
       "      <td>1.931694</td>\n",
       "      <td>0.748021</td>\n",
       "      <td>0.227763</td>\n",
       "      <td>0.435245</td>\n",
       "      <td>0.814613</td>\n",
       "      <td>0</td>\n",
       "      <td>-3.127621</td>\n",
       "      <td>0</td>\n",
       "    </tr>\n",
       "    <tr>\n",
       "      <th>183</th>\n",
       "      <td>396</td>\n",
       "      <td>1.782889</td>\n",
       "      <td>1.026228</td>\n",
       "      <td>-0.981405</td>\n",
       "      <td>0.649469</td>\n",
       "      <td>-0.031341</td>\n",
       "      <td>-1.007914</td>\n",
       "      <td>0</td>\n",
       "      <td>-3.400735</td>\n",
       "      <td>0</td>\n",
       "    </tr>\n",
       "    <tr>\n",
       "      <th>184</th>\n",
       "      <td>318</td>\n",
       "      <td>1.270651</td>\n",
       "      <td>2.047730</td>\n",
       "      <td>-0.268049</td>\n",
       "      <td>1.618577</td>\n",
       "      <td>-1.060361</td>\n",
       "      <td>-0.537802</td>\n",
       "      <td>0</td>\n",
       "      <td>-3.606844</td>\n",
       "      <td>0</td>\n",
       "    </tr>\n",
       "    <tr>\n",
       "      <th>185</th>\n",
       "      <td>368</td>\n",
       "      <td>1.861832</td>\n",
       "      <td>0.962034</td>\n",
       "      <td>-0.642342</td>\n",
       "      <td>0.424650</td>\n",
       "      <td>-0.165486</td>\n",
       "      <td>0.024183</td>\n",
       "      <td>0</td>\n",
       "      <td>-3.749554</td>\n",
       "      <td>0</td>\n",
       "    </tr>\n",
       "    <tr>\n",
       "      <th>186</th>\n",
       "      <td>394</td>\n",
       "      <td>1.173871</td>\n",
       "      <td>1.998160</td>\n",
       "      <td>0.465630</td>\n",
       "      <td>0.108323</td>\n",
       "      <td>0.473767</td>\n",
       "      <td>0.524057</td>\n",
       "      <td>0</td>\n",
       "      <td>-3.812548</td>\n",
       "      <td>0</td>\n",
       "    </tr>\n",
       "    <tr>\n",
       "      <th>187</th>\n",
       "      <td>235</td>\n",
       "      <td>1.160137</td>\n",
       "      <td>1.494542</td>\n",
       "      <td>-0.725449</td>\n",
       "      <td>1.305858</td>\n",
       "      <td>-0.344971</td>\n",
       "      <td>-0.483128</td>\n",
       "      <td>0</td>\n",
       "      <td>-3.857885</td>\n",
       "      <td>0</td>\n",
       "    </tr>\n",
       "    <tr>\n",
       "      <th>188</th>\n",
       "      <td>332</td>\n",
       "      <td>1.112001</td>\n",
       "      <td>2.719942</td>\n",
       "      <td>-0.715738</td>\n",
       "      <td>0.735991</td>\n",
       "      <td>-1.390352</td>\n",
       "      <td>0.010833</td>\n",
       "      <td>0</td>\n",
       "      <td>-3.904153</td>\n",
       "      <td>0</td>\n",
       "    </tr>\n",
       "    <tr>\n",
       "      <th>189</th>\n",
       "      <td>233</td>\n",
       "      <td>1.654437</td>\n",
       "      <td>2.026608</td>\n",
       "      <td>0.572819</td>\n",
       "      <td>0.949472</td>\n",
       "      <td>0.567471</td>\n",
       "      <td>-0.708275</td>\n",
       "      <td>0</td>\n",
       "      <td>-3.916893</td>\n",
       "      <td>0</td>\n",
       "    </tr>\n",
       "    <tr>\n",
       "      <th>190</th>\n",
       "      <td>221</td>\n",
       "      <td>0.901213</td>\n",
       "      <td>1.558911</td>\n",
       "      <td>-1.171235</td>\n",
       "      <td>0.510403</td>\n",
       "      <td>-0.013826</td>\n",
       "      <td>-0.046883</td>\n",
       "      <td>0</td>\n",
       "      <td>-4.081052</td>\n",
       "      <td>0</td>\n",
       "    </tr>\n",
       "    <tr>\n",
       "      <th>191</th>\n",
       "      <td>389</td>\n",
       "      <td>2.575803</td>\n",
       "      <td>0.518635</td>\n",
       "      <td>-0.617821</td>\n",
       "      <td>5.087746</td>\n",
       "      <td>-2.773725</td>\n",
       "      <td>-1.916848</td>\n",
       "      <td>0</td>\n",
       "      <td>-4.109432</td>\n",
       "      <td>0</td>\n",
       "    </tr>\n",
       "    <tr>\n",
       "      <th>192</th>\n",
       "      <td>357</td>\n",
       "      <td>0.153151</td>\n",
       "      <td>1.728625</td>\n",
       "      <td>-1.110732</td>\n",
       "      <td>0.231818</td>\n",
       "      <td>0.153168</td>\n",
       "      <td>0.750101</td>\n",
       "      <td>0</td>\n",
       "      <td>-4.127596</td>\n",
       "      <td>0</td>\n",
       "    </tr>\n",
       "    <tr>\n",
       "      <th>193</th>\n",
       "      <td>399</td>\n",
       "      <td>1.085565</td>\n",
       "      <td>0.730934</td>\n",
       "      <td>-1.236432</td>\n",
       "      <td>-0.079897</td>\n",
       "      <td>0.648910</td>\n",
       "      <td>0.506898</td>\n",
       "      <td>0</td>\n",
       "      <td>-4.128842</td>\n",
       "      <td>0</td>\n",
       "    </tr>\n",
       "    <tr>\n",
       "      <th>194</th>\n",
       "      <td>377</td>\n",
       "      <td>2.252310</td>\n",
       "      <td>0.740850</td>\n",
       "      <td>0.105524</td>\n",
       "      <td>0.115908</td>\n",
       "      <td>0.499472</td>\n",
       "      <td>0.766106</td>\n",
       "      <td>0</td>\n",
       "      <td>-4.269121</td>\n",
       "      <td>0</td>\n",
       "    </tr>\n",
       "    <tr>\n",
       "      <th>195</th>\n",
       "      <td>325</td>\n",
       "      <td>1.492617</td>\n",
       "      <td>1.999753</td>\n",
       "      <td>-0.129558</td>\n",
       "      <td>0.873897</td>\n",
       "      <td>-0.034489</td>\n",
       "      <td>-0.018527</td>\n",
       "      <td>0</td>\n",
       "      <td>-4.442809</td>\n",
       "      <td>0</td>\n",
       "    </tr>\n",
       "    <tr>\n",
       "      <th>196</th>\n",
       "      <td>308</td>\n",
       "      <td>0.409214</td>\n",
       "      <td>1.113840</td>\n",
       "      <td>-0.705759</td>\n",
       "      <td>1.205715</td>\n",
       "      <td>0.629204</td>\n",
       "      <td>0.925663</td>\n",
       "      <td>0</td>\n",
       "      <td>-4.989394</td>\n",
       "      <td>0</td>\n",
       "    </tr>\n",
       "    <tr>\n",
       "      <th>197</th>\n",
       "      <td>231</td>\n",
       "      <td>1.736918</td>\n",
       "      <td>3.113299</td>\n",
       "      <td>-0.464413</td>\n",
       "      <td>1.475561</td>\n",
       "      <td>-0.190042</td>\n",
       "      <td>-0.576962</td>\n",
       "      <td>0</td>\n",
       "      <td>-6.023186</td>\n",
       "      <td>0</td>\n",
       "    </tr>\n",
       "    <tr>\n",
       "      <th>198</th>\n",
       "      <td>324</td>\n",
       "      <td>1.683324</td>\n",
       "      <td>1.368367</td>\n",
       "      <td>-0.709330</td>\n",
       "      <td>3.070383</td>\n",
       "      <td>0.230485</td>\n",
       "      <td>-0.210344</td>\n",
       "      <td>0</td>\n",
       "      <td>-6.851545</td>\n",
       "      <td>0</td>\n",
       "    </tr>\n",
       "    <tr>\n",
       "      <th>199</th>\n",
       "      <td>363</td>\n",
       "      <td>0.727776</td>\n",
       "      <td>2.386162</td>\n",
       "      <td>-0.456269</td>\n",
       "      <td>5.452254</td>\n",
       "      <td>-0.083798</td>\n",
       "      <td>-0.578438</td>\n",
       "      <td>0</td>\n",
       "      <td>-8.360227</td>\n",
       "      <td>0</td>\n",
       "    </tr>\n",
       "  </tbody>\n",
       "</table>\n",
       "<p>200 rows × 10 columns</p>\n",
       "</div>"
      ],
      "text/plain": [
       "      id       age    employ   address    income    ccdebt   cardebt  label  \\\n",
       "0    246 -0.963905 -0.842530  1.872879 -0.117654 -2.096558 -0.307024      1   \n",
       "1    220 -1.291959 -0.429934  0.657363 -0.047444 -2.172531 -0.686444      1   \n",
       "2    339 -0.737364 -0.509756  1.045394  0.786969 -0.779929 -2.323567      1   \n",
       "3    373 -1.053619 -1.177311  2.370474 -0.788595  0.551223  0.335295      1   \n",
       "4    381 -0.941804 -1.236030  1.826402 -0.847735  0.435095  0.096392      1   \n",
       "5    244  1.707522  0.934898 -0.630013  4.857578 -6.781217 -5.580227      1   \n",
       "6    232 -0.067112 -0.333885  3.769480 -0.403986  0.649648 -0.296652      0   \n",
       "7    358 -0.820323 -1.155353  0.184450 -0.526398 -0.368936 -0.996954      1   \n",
       "8    302 -1.001490 -0.904701  2.476658 -0.611676  0.526525  0.680671      0   \n",
       "9    393 -0.049167 -1.033303  1.585776 -0.458126 -0.603614  0.101689      1   \n",
       "10   222 -0.536482  0.047760  0.501081  0.319656 -2.152566 -0.804157      1   \n",
       "11   262  1.477928 -0.932418  2.849128 -0.401115 -0.625332 -0.274018      0   \n",
       "12   312 -1.105163 -1.105659  1.994811 -0.743219  0.643166  0.922355      0   \n",
       "13   206 -0.513433 -0.156314  2.755109 -0.819001  0.508607  0.415869      0   \n",
       "14   320 -1.468190 -1.256761  1.000159 -0.616798  0.531980  0.572581      0   \n",
       "15   291 -2.165733 -1.185266 -0.163354 -0.774892  0.468448  0.561454      1   \n",
       "16   237 -2.023354 -1.250983 -0.659866 -0.829586  0.298322  0.288927      0   \n",
       "17   387  0.283706  0.263576  1.254194 -0.410018  0.158575 -1.897011      0   \n",
       "18   225 -2.207424 -1.278465 -0.267925 -0.730249  0.666940  0.536682      0   \n",
       "19   322  0.857205  3.421872 -0.339866  2.424447 -6.063025 -3.721795      1   \n",
       "20   263 -0.723605 -0.611880 -0.459318 -0.256136 -0.792876 -0.769822      0   \n",
       "21   317  0.152974 -0.511857  1.688282 -0.447806 -0.172785 -0.016599      0   \n",
       "22   350 -1.898849 -1.214032 -0.213668 -0.542548 -0.041022  0.836356      0   \n",
       "23   376 -1.383126 -0.648039  1.115559 -0.647039  0.518489  0.652325      0   \n",
       "24   346 -0.503692 -0.513313  0.122071 -0.367051 -0.857612 -0.212471      1   \n",
       "25   258 -1.692275 -0.842252  0.646374 -0.644430  0.550066  0.780994      1   \n",
       "26   253  0.793147  1.322792  2.384111  0.701670 -2.396221 -0.498117      1   \n",
       "27   380  0.609355  0.430145 -1.212778  1.074210 -1.679322 -4.069843      1   \n",
       "28   251 -1.807117 -1.070469 -0.243411 -0.853597  0.673625  0.462102      0   \n",
       "29   342 -1.384878 -1.275026 -0.027037 -0.833405  0.618078  0.531575      0   \n",
       "..   ...       ...       ...       ...       ...       ...       ...    ...   \n",
       "170  340  2.937267  1.369416 -0.087661  0.850849 -1.408851 -1.310499      0   \n",
       "171  306  2.100696 -1.097569 -0.988590 -0.689422  0.692597  0.665716      0   \n",
       "172  278  1.761492 -0.027149 -0.932264  0.581942  0.095816 -0.670754      1   \n",
       "173  228  0.898991  0.466983  0.221971  0.960953  0.106789  0.484636      0   \n",
       "174  395  0.474206  0.900814  0.335568  0.714292  0.178053  0.903188      0   \n",
       "175  307  1.083873  1.175250  0.551526  0.842127  0.276076  0.013197      0   \n",
       "176  281  1.242483 -0.067128 -0.953473  0.620122  0.336026 -0.157164      0   \n",
       "177  365  1.667644  2.080671  0.273250  0.556278 -1.183167  0.086517      0   \n",
       "178  227  0.842519  1.924579  2.272079  2.054348  0.066330  0.370109      0   \n",
       "179  385  0.118779  1.431856 -0.715774  0.358515  0.197663  0.163606      0   \n",
       "180  388  1.064789  0.679609  1.798040  3.780397 -0.406196 -0.286584      0   \n",
       "181  319 -0.022908  0.686514 -0.864816  0.239555  0.518869  0.803872      0   \n",
       "182  384  0.466327  1.931694  0.748021  0.227763  0.435245  0.814613      0   \n",
       "183  396  1.782889  1.026228 -0.981405  0.649469 -0.031341 -1.007914      0   \n",
       "184  318  1.270651  2.047730 -0.268049  1.618577 -1.060361 -0.537802      0   \n",
       "185  368  1.861832  0.962034 -0.642342  0.424650 -0.165486  0.024183      0   \n",
       "186  394  1.173871  1.998160  0.465630  0.108323  0.473767  0.524057      0   \n",
       "187  235  1.160137  1.494542 -0.725449  1.305858 -0.344971 -0.483128      0   \n",
       "188  332  1.112001  2.719942 -0.715738  0.735991 -1.390352  0.010833      0   \n",
       "189  233  1.654437  2.026608  0.572819  0.949472  0.567471 -0.708275      0   \n",
       "190  221  0.901213  1.558911 -1.171235  0.510403 -0.013826 -0.046883      0   \n",
       "191  389  2.575803  0.518635 -0.617821  5.087746 -2.773725 -1.916848      0   \n",
       "192  357  0.153151  1.728625 -1.110732  0.231818  0.153168  0.750101      0   \n",
       "193  399  1.085565  0.730934 -1.236432 -0.079897  0.648910  0.506898      0   \n",
       "194  377  2.252310  0.740850  0.105524  0.115908  0.499472  0.766106      0   \n",
       "195  325  1.492617  1.999753 -0.129558  0.873897 -0.034489 -0.018527      0   \n",
       "196  308  0.409214  1.113840 -0.705759  1.205715  0.629204  0.925663      0   \n",
       "197  231  1.736918  3.113299 -0.464413  1.475561 -0.190042 -0.576962      0   \n",
       "198  324  1.683324  1.368367 -0.709330  3.070383  0.230485 -0.210344      0   \n",
       "199  363  0.727776  2.386162 -0.456269  5.452254 -0.083798 -0.578438      0   \n",
       "\n",
       "        score  pred  \n",
       "0    6.200550     1  \n",
       "1    5.285674     1  \n",
       "2    4.609041     1  \n",
       "3    4.503481     1  \n",
       "4    4.320484     1  \n",
       "5    4.231434     1  \n",
       "6    4.221468     1  \n",
       "7    4.052414     1  \n",
       "8    3.787328     1  \n",
       "9    3.628296     1  \n",
       "10   3.626870     1  \n",
       "11   3.604082     1  \n",
       "12   3.383331     1  \n",
       "13   3.319382     1  \n",
       "14   3.237346     1  \n",
       "15   2.932636     1  \n",
       "16   2.856808     1  \n",
       "17   2.855367     1  \n",
       "18   2.744590     1  \n",
       "19   2.741430     1  \n",
       "20   2.695002     1  \n",
       "21   2.684355     1  \n",
       "22   2.646427     1  \n",
       "23   2.622949     1  \n",
       "24   2.576210     1  \n",
       "25   2.494271     1  \n",
       "26   2.460840     1  \n",
       "27   2.422677     1  \n",
       "28   2.352044     1  \n",
       "29   2.316618     1  \n",
       "..        ...   ...  \n",
       "170 -2.525842     0  \n",
       "171 -2.660608     0  \n",
       "172 -2.673611     0  \n",
       "173 -2.696382     0  \n",
       "174 -2.834986     0  \n",
       "175 -2.838998     0  \n",
       "176 -2.927812     0  \n",
       "177 -2.934692     0  \n",
       "178 -2.985805     0  \n",
       "179 -2.986194     0  \n",
       "180 -3.033974     0  \n",
       "181 -3.090719     0  \n",
       "182 -3.127621     0  \n",
       "183 -3.400735     0  \n",
       "184 -3.606844     0  \n",
       "185 -3.749554     0  \n",
       "186 -3.812548     0  \n",
       "187 -3.857885     0  \n",
       "188 -3.904153     0  \n",
       "189 -3.916893     0  \n",
       "190 -4.081052     0  \n",
       "191 -4.109432     0  \n",
       "192 -4.127596     0  \n",
       "193 -4.128842     0  \n",
       "194 -4.269121     0  \n",
       "195 -4.442809     0  \n",
       "196 -4.989394     0  \n",
       "197 -6.023186     0  \n",
       "198 -6.851545     0  \n",
       "199 -8.360227     0  \n",
       "\n",
       "[200 rows x 10 columns]"
      ]
     },
     "execution_count": 25,
     "metadata": {},
     "output_type": "execute_result"
    }
   ],
   "source": [
    "test['pred'] = (test['score'] > train_threshold['score']).astype(int)\n",
    "test"
   ]
  },
  {
   "cell_type": "code",
   "execution_count": 26,
   "metadata": {},
   "outputs": [],
   "source": [
    "test_fnc = ((test['label'] == 1) & (test['pred'] == 0)).sum()\n",
    "test_fpc = ((test['label'] == 0) & (test['pred'] == 1)).sum()"
   ]
  },
  {
   "cell_type": "code",
   "execution_count": 27,
   "metadata": {},
   "outputs": [
    {
     "data": {
      "text/plain": [
       "887.5"
      ]
     },
     "execution_count": 27,
     "metadata": {},
     "output_type": "execute_result"
    }
   ],
   "source": [
    "test_total_cost = test_fnc * fn_cost + test_fpc * fp_cost\n",
    "test_cost_per_event = test_total_cost / len(test)\n",
    "test_cost_per_event"
   ]
  },
  {
   "cell_type": "markdown",
   "metadata": {},
   "source": [
    "**Q7:** Find savings compared to approving all applicants"
   ]
  },
  {
   "cell_type": "code",
   "execution_count": 28,
   "metadata": {},
   "outputs": [
    {
     "data": {
      "text/plain": [
       "362.5"
      ]
     },
     "execution_count": 28,
     "metadata": {},
     "output_type": "execute_result"
    }
   ],
   "source": [
    "saving_per_event = 1250 - test_cost_per_event\n",
    "saving_per_event"
   ]
  },
  {
   "cell_type": "markdown",
   "metadata": {},
   "source": [
    "**Q8:** Find payback period (interest-fee)"
   ]
  },
  {
   "cell_type": "code",
   "execution_count": 29,
   "metadata": {},
   "outputs": [
    {
     "data": {
      "text/plain": [
       "2.0689655172413794"
      ]
     },
     "execution_count": 29,
     "metadata": {},
     "output_type": "execute_result"
    }
   ],
   "source": [
    "saving_per_day = saving_per_event * 1000\n",
    "payback_period = 750000 / saving_per_day\n",
    "payback_period"
   ]
  },
  {
   "cell_type": "markdown",
   "metadata": {},
   "source": [
    "**Q9:** Find true positive rate (of test set?)"
   ]
  },
  {
   "cell_type": "code",
   "execution_count": 30,
   "metadata": {},
   "outputs": [
    {
     "data": {
      "text/plain": [
       "0.58"
      ]
     },
     "execution_count": 30,
     "metadata": {},
     "output_type": "execute_result"
    }
   ],
   "source": [
    "test_tpr = ((test['label'] == 1) & (test['pred'] == 1)).sum() / (test['label'] == 1).sum()\n",
    "test_tpr"
   ]
  },
  {
   "cell_type": "markdown",
   "metadata": {},
   "source": [
    "**Q10**: Find test incidence (proportion of predicted positives in test set)"
   ]
  },
  {
   "cell_type": "code",
   "execution_count": 31,
   "metadata": {},
   "outputs": [
    {
     "data": {
      "text/plain": [
       "0.29"
      ]
     },
     "execution_count": 31,
     "metadata": {},
     "output_type": "execute_result"
    }
   ],
   "source": [
    "test_incidence = (test['pred'] == 1).sum() / len(test)\n",
    "test_incidence"
   ]
  },
  {
   "cell_type": "markdown",
   "metadata": {},
   "source": [
    "# Quiz 2"
   ]
  },
  {
   "cell_type": "markdown",
   "metadata": {},
   "source": [
    "**Q1**"
   ]
  },
  {
   "cell_type": "code",
   "execution_count": 75,
   "metadata": {},
   "outputs": [],
   "source": [
    "egger_train = pd.read_csv('egger_train.csv', header=None)\n",
    "egger_train.columns = ['id', 'score', 'label']"
   ]
  },
  {
   "cell_type": "code",
   "execution_count": 46,
   "metadata": {},
   "outputs": [
    {
     "data": {
      "text/plain": [
       "0.8484000000000014"
      ]
     },
     "execution_count": 46,
     "metadata": {},
     "output_type": "execute_result"
    }
   ],
   "source": [
    "calculate_auc(egger_train)"
   ]
  },
  {
   "cell_type": "markdown",
   "metadata": {},
   "source": [
    "**Q2**"
   ]
  },
  {
   "cell_type": "code",
   "execution_count": 96,
   "metadata": {},
   "outputs": [],
   "source": [
    "egger_train_cost = calculate_cost(egger_train)"
   ]
  },
  {
   "cell_type": "code",
   "execution_count": 97,
   "metadata": {
    "scrolled": true
   },
   "outputs": [
    {
     "data": {
      "text/plain": [
       "<matplotlib.collections.PathCollection at 0x7f0dee1d3ba8>"
      ]
     },
     "execution_count": 97,
     "metadata": {},
     "output_type": "execute_result"
    },
    {
     "data": {
      "image/png": "[encoded data removed]",
      "text/plain": [
       "<Figure size 432x288 with 1 Axes>"
      ]
     },
     "metadata": {},
     "output_type": "display_data"
    }
   ],
   "source": [
    "plt.scatter(x=range(len(egger_train_cost)), y=train_cost['total_cost'])"
   ]
  },
  {
   "cell_type": "code",
   "execution_count": 98,
   "metadata": {
    "scrolled": true
   },
   "outputs": [
    {
     "data": {
      "text/plain": [
       "2844"
      ]
     },
     "execution_count": 98,
     "metadata": {},
     "output_type": "execute_result"
    }
   ],
   "source": [
    "egger_train_threshold = egger_train_cost.loc[egger_train_cost.idxmin()['total_cost']]\n",
    "egger_train_threshold['score']"
   ]
  },
  {
   "cell_type": "code",
   "execution_count": 67,
   "metadata": {},
   "outputs": [
    {
     "data": {
      "text/plain": [
       "fn                11\n",
       "fp                25\n",
       "score           2844\n",
       "label              1\n",
       "fn_cost        55000\n",
       "fp_cost        62500\n",
       "total_cost    117500\n",
       "Name: 63, dtype: int64"
      ]
     },
     "execution_count": 67,
     "metadata": {},
     "output_type": "execute_result"
    }
   ],
   "source": [
    "egger_train_threshold"
   ]
  },
  {
   "cell_type": "code",
   "execution_count": 71,
   "metadata": {},
   "outputs": [
    {
     "data": {
      "text/plain": [
       "0.6558020812880424"
      ]
     },
     "execution_count": 71,
     "metadata": {},
     "output_type": "execute_result"
    }
   ],
   "source": [
    "(2844 - egger_train_cost['score'].min()) / (egger_train_cost['score'].max() - egger_train_cost['score'].min())"
   ]
  },
  {
   "cell_type": "code",
   "execution_count": 77,
   "metadata": {},
   "outputs": [
    {
     "data": {
      "text/plain": [
       "0.6186643463128128"
      ]
     },
     "execution_count": 77,
     "metadata": {},
     "output_type": "execute_result"
    }
   ],
   "source": [
    "2844 / egger_train_cost['score'].max()"
   ]
  },
  {
   "cell_type": "markdown",
   "metadata": {},
   "source": [
    "**Q3**"
   ]
  },
  {
   "cell_type": "code",
   "execution_count": 99,
   "metadata": {},
   "outputs": [
    {
     "data": {
      "text/plain": [
       "587.5"
      ]
     },
     "execution_count": 99,
     "metadata": {},
     "output_type": "execute_result"
    }
   ],
   "source": [
    "egger_train_threshold['total_cost'] / len(egger_train_cost)"
   ]
  },
  {
   "cell_type": "markdown",
   "metadata": {},
   "source": [
    "**Q4**"
   ]
  },
  {
   "cell_type": "code",
   "execution_count": 100,
   "metadata": {},
   "outputs": [],
   "source": [
    "egger_test = pd.read_csv('egger_test.csv', header=None)\n",
    "egger_test.columns = ['id', 'score', 'label']"
   ]
  },
  {
   "cell_type": "code",
   "execution_count": 101,
   "metadata": {
    "scrolled": true
   },
   "outputs": [
    {
     "data": {
      "text/plain": [
       "0.852666666666667"
      ]
     },
     "execution_count": 101,
     "metadata": {},
     "output_type": "execute_result"
    }
   ],
   "source": [
    "calculate_auc(egger_test)"
   ]
  },
  {
   "cell_type": "markdown",
   "metadata": {},
   "source": [
    "**Q5**"
   ]
  },
  {
   "cell_type": "code",
   "execution_count": 102,
   "metadata": {
    "scrolled": true
   },
   "outputs": [
    {
     "data": {
      "text/html": [
       "<div>\n",
       "<style scoped>\n",
       "    .dataframe tbody tr th:only-of-type {\n",
       "        vertical-align: middle;\n",
       "    }\n",
       "\n",
       "    .dataframe tbody tr th {\n",
       "        vertical-align: top;\n",
       "    }\n",
       "\n",
       "    .dataframe thead th {\n",
       "        text-align: right;\n",
       "    }\n",
       "</style>\n",
       "<table border=\"1\" class=\"dataframe\">\n",
       "  <thead>\n",
       "    <tr style=\"text-align: right;\">\n",
       "      <th></th>\n",
       "      <th>id</th>\n",
       "      <th>score</th>\n",
       "      <th>label</th>\n",
       "      <th>pred</th>\n",
       "    </tr>\n",
       "  </thead>\n",
       "  <tbody>\n",
       "    <tr>\n",
       "      <th>0</th>\n",
       "      <td>201</td>\n",
       "      <td>3032.901421</td>\n",
       "      <td>1</td>\n",
       "      <td>1</td>\n",
       "    </tr>\n",
       "    <tr>\n",
       "      <th>1</th>\n",
       "      <td>202</td>\n",
       "      <td>2825.800440</td>\n",
       "      <td>1</td>\n",
       "      <td>0</td>\n",
       "    </tr>\n",
       "    <tr>\n",
       "      <th>2</th>\n",
       "      <td>203</td>\n",
       "      <td>322.315761</td>\n",
       "      <td>0</td>\n",
       "      <td>0</td>\n",
       "    </tr>\n",
       "    <tr>\n",
       "      <th>3</th>\n",
       "      <td>204</td>\n",
       "      <td>249.832438</td>\n",
       "      <td>0</td>\n",
       "      <td>0</td>\n",
       "    </tr>\n",
       "    <tr>\n",
       "      <th>4</th>\n",
       "      <td>205</td>\n",
       "      <td>1066.581297</td>\n",
       "      <td>0</td>\n",
       "      <td>0</td>\n",
       "    </tr>\n",
       "    <tr>\n",
       "      <th>5</th>\n",
       "      <td>206</td>\n",
       "      <td>778.965988</td>\n",
       "      <td>0</td>\n",
       "      <td>0</td>\n",
       "    </tr>\n",
       "    <tr>\n",
       "      <th>6</th>\n",
       "      <td>207</td>\n",
       "      <td>240.276924</td>\n",
       "      <td>1</td>\n",
       "      <td>0</td>\n",
       "    </tr>\n",
       "    <tr>\n",
       "      <th>7</th>\n",
       "      <td>208</td>\n",
       "      <td>1045.702698</td>\n",
       "      <td>1</td>\n",
       "      <td>0</td>\n",
       "    </tr>\n",
       "    <tr>\n",
       "      <th>8</th>\n",
       "      <td>209</td>\n",
       "      <td>397.379617</td>\n",
       "      <td>0</td>\n",
       "      <td>0</td>\n",
       "    </tr>\n",
       "    <tr>\n",
       "      <th>9</th>\n",
       "      <td>210</td>\n",
       "      <td>-52.408452</td>\n",
       "      <td>0</td>\n",
       "      <td>0</td>\n",
       "    </tr>\n",
       "    <tr>\n",
       "      <th>10</th>\n",
       "      <td>211</td>\n",
       "      <td>361.036634</td>\n",
       "      <td>0</td>\n",
       "      <td>0</td>\n",
       "    </tr>\n",
       "    <tr>\n",
       "      <th>11</th>\n",
       "      <td>212</td>\n",
       "      <td>1918.060567</td>\n",
       "      <td>0</td>\n",
       "      <td>0</td>\n",
       "    </tr>\n",
       "    <tr>\n",
       "      <th>12</th>\n",
       "      <td>213</td>\n",
       "      <td>49.521667</td>\n",
       "      <td>0</td>\n",
       "      <td>0</td>\n",
       "    </tr>\n",
       "    <tr>\n",
       "      <th>13</th>\n",
       "      <td>214</td>\n",
       "      <td>2020.703529</td>\n",
       "      <td>0</td>\n",
       "      <td>0</td>\n",
       "    </tr>\n",
       "    <tr>\n",
       "      <th>14</th>\n",
       "      <td>215</td>\n",
       "      <td>1706.099572</td>\n",
       "      <td>1</td>\n",
       "      <td>0</td>\n",
       "    </tr>\n",
       "    <tr>\n",
       "      <th>15</th>\n",
       "      <td>216</td>\n",
       "      <td>-543.845119</td>\n",
       "      <td>0</td>\n",
       "      <td>0</td>\n",
       "    </tr>\n",
       "    <tr>\n",
       "      <th>16</th>\n",
       "      <td>217</td>\n",
       "      <td>358.744854</td>\n",
       "      <td>0</td>\n",
       "      <td>0</td>\n",
       "    </tr>\n",
       "    <tr>\n",
       "      <th>17</th>\n",
       "      <td>218</td>\n",
       "      <td>946.326494</td>\n",
       "      <td>0</td>\n",
       "      <td>0</td>\n",
       "    </tr>\n",
       "    <tr>\n",
       "      <th>18</th>\n",
       "      <td>219</td>\n",
       "      <td>1672.758067</td>\n",
       "      <td>0</td>\n",
       "      <td>0</td>\n",
       "    </tr>\n",
       "    <tr>\n",
       "      <th>19</th>\n",
       "      <td>220</td>\n",
       "      <td>4211.696112</td>\n",
       "      <td>1</td>\n",
       "      <td>1</td>\n",
       "    </tr>\n",
       "    <tr>\n",
       "      <th>20</th>\n",
       "      <td>221</td>\n",
       "      <td>-104.514101</td>\n",
       "      <td>0</td>\n",
       "      <td>0</td>\n",
       "    </tr>\n",
       "    <tr>\n",
       "      <th>21</th>\n",
       "      <td>222</td>\n",
       "      <td>3224.190980</td>\n",
       "      <td>1</td>\n",
       "      <td>1</td>\n",
       "    </tr>\n",
       "    <tr>\n",
       "      <th>22</th>\n",
       "      <td>223</td>\n",
       "      <td>1029.166362</td>\n",
       "      <td>1</td>\n",
       "      <td>0</td>\n",
       "    </tr>\n",
       "    <tr>\n",
       "      <th>23</th>\n",
       "      <td>224</td>\n",
       "      <td>47.395369</td>\n",
       "      <td>0</td>\n",
       "      <td>0</td>\n",
       "    </tr>\n",
       "    <tr>\n",
       "      <th>24</th>\n",
       "      <td>225</td>\n",
       "      <td>2281.484650</td>\n",
       "      <td>0</td>\n",
       "      <td>0</td>\n",
       "    </tr>\n",
       "    <tr>\n",
       "      <th>25</th>\n",
       "      <td>226</td>\n",
       "      <td>648.114331</td>\n",
       "      <td>0</td>\n",
       "      <td>0</td>\n",
       "    </tr>\n",
       "    <tr>\n",
       "      <th>26</th>\n",
       "      <td>227</td>\n",
       "      <td>-96.115443</td>\n",
       "      <td>0</td>\n",
       "      <td>0</td>\n",
       "    </tr>\n",
       "    <tr>\n",
       "      <th>27</th>\n",
       "      <td>228</td>\n",
       "      <td>140.849362</td>\n",
       "      <td>0</td>\n",
       "      <td>0</td>\n",
       "    </tr>\n",
       "    <tr>\n",
       "      <th>28</th>\n",
       "      <td>229</td>\n",
       "      <td>3735.802988</td>\n",
       "      <td>1</td>\n",
       "      <td>1</td>\n",
       "    </tr>\n",
       "    <tr>\n",
       "      <th>29</th>\n",
       "      <td>230</td>\n",
       "      <td>2173.351899</td>\n",
       "      <td>1</td>\n",
       "      <td>0</td>\n",
       "    </tr>\n",
       "    <tr>\n",
       "      <th>...</th>\n",
       "      <td>...</td>\n",
       "      <td>...</td>\n",
       "      <td>...</td>\n",
       "      <td>...</td>\n",
       "    </tr>\n",
       "    <tr>\n",
       "      <th>170</th>\n",
       "      <td>371</td>\n",
       "      <td>37.892457</td>\n",
       "      <td>1</td>\n",
       "      <td>0</td>\n",
       "    </tr>\n",
       "    <tr>\n",
       "      <th>171</th>\n",
       "      <td>372</td>\n",
       "      <td>1111.292641</td>\n",
       "      <td>1</td>\n",
       "      <td>0</td>\n",
       "    </tr>\n",
       "    <tr>\n",
       "      <th>172</th>\n",
       "      <td>373</td>\n",
       "      <td>2728.677935</td>\n",
       "      <td>1</td>\n",
       "      <td>0</td>\n",
       "    </tr>\n",
       "    <tr>\n",
       "      <th>173</th>\n",
       "      <td>374</td>\n",
       "      <td>258.288006</td>\n",
       "      <td>0</td>\n",
       "      <td>0</td>\n",
       "    </tr>\n",
       "    <tr>\n",
       "      <th>174</th>\n",
       "      <td>375</td>\n",
       "      <td>1053.188810</td>\n",
       "      <td>0</td>\n",
       "      <td>0</td>\n",
       "    </tr>\n",
       "    <tr>\n",
       "      <th>175</th>\n",
       "      <td>376</td>\n",
       "      <td>1100.228745</td>\n",
       "      <td>0</td>\n",
       "      <td>0</td>\n",
       "    </tr>\n",
       "    <tr>\n",
       "      <th>176</th>\n",
       "      <td>377</td>\n",
       "      <td>168.612909</td>\n",
       "      <td>0</td>\n",
       "      <td>0</td>\n",
       "    </tr>\n",
       "    <tr>\n",
       "      <th>177</th>\n",
       "      <td>378</td>\n",
       "      <td>1736.132669</td>\n",
       "      <td>0</td>\n",
       "      <td>0</td>\n",
       "    </tr>\n",
       "    <tr>\n",
       "      <th>178</th>\n",
       "      <td>379</td>\n",
       "      <td>29.891486</td>\n",
       "      <td>0</td>\n",
       "      <td>0</td>\n",
       "    </tr>\n",
       "    <tr>\n",
       "      <th>179</th>\n",
       "      <td>380</td>\n",
       "      <td>2901.693369</td>\n",
       "      <td>1</td>\n",
       "      <td>1</td>\n",
       "    </tr>\n",
       "    <tr>\n",
       "      <th>180</th>\n",
       "      <td>381</td>\n",
       "      <td>2936.740308</td>\n",
       "      <td>1</td>\n",
       "      <td>1</td>\n",
       "    </tr>\n",
       "    <tr>\n",
       "      <th>181</th>\n",
       "      <td>382</td>\n",
       "      <td>977.182488</td>\n",
       "      <td>0</td>\n",
       "      <td>0</td>\n",
       "    </tr>\n",
       "    <tr>\n",
       "      <th>182</th>\n",
       "      <td>383</td>\n",
       "      <td>515.488902</td>\n",
       "      <td>0</td>\n",
       "      <td>0</td>\n",
       "    </tr>\n",
       "    <tr>\n",
       "      <th>183</th>\n",
       "      <td>384</td>\n",
       "      <td>256.127819</td>\n",
       "      <td>0</td>\n",
       "      <td>0</td>\n",
       "    </tr>\n",
       "    <tr>\n",
       "      <th>184</th>\n",
       "      <td>385</td>\n",
       "      <td>-266.199293</td>\n",
       "      <td>0</td>\n",
       "      <td>0</td>\n",
       "    </tr>\n",
       "    <tr>\n",
       "      <th>185</th>\n",
       "      <td>386</td>\n",
       "      <td>1546.119918</td>\n",
       "      <td>0</td>\n",
       "      <td>0</td>\n",
       "    </tr>\n",
       "    <tr>\n",
       "      <th>186</th>\n",
       "      <td>387</td>\n",
       "      <td>2192.942126</td>\n",
       "      <td>0</td>\n",
       "      <td>0</td>\n",
       "    </tr>\n",
       "    <tr>\n",
       "      <th>187</th>\n",
       "      <td>388</td>\n",
       "      <td>-19.872784</td>\n",
       "      <td>0</td>\n",
       "      <td>0</td>\n",
       "    </tr>\n",
       "    <tr>\n",
       "      <th>188</th>\n",
       "      <td>389</td>\n",
       "      <td>1983.393090</td>\n",
       "      <td>0</td>\n",
       "      <td>0</td>\n",
       "    </tr>\n",
       "    <tr>\n",
       "      <th>189</th>\n",
       "      <td>390</td>\n",
       "      <td>596.930029</td>\n",
       "      <td>0</td>\n",
       "      <td>0</td>\n",
       "    </tr>\n",
       "    <tr>\n",
       "      <th>190</th>\n",
       "      <td>391</td>\n",
       "      <td>245.475360</td>\n",
       "      <td>0</td>\n",
       "      <td>0</td>\n",
       "    </tr>\n",
       "    <tr>\n",
       "      <th>191</th>\n",
       "      <td>392</td>\n",
       "      <td>1718.906069</td>\n",
       "      <td>0</td>\n",
       "      <td>0</td>\n",
       "    </tr>\n",
       "    <tr>\n",
       "      <th>192</th>\n",
       "      <td>393</td>\n",
       "      <td>3209.317924</td>\n",
       "      <td>1</td>\n",
       "      <td>1</td>\n",
       "    </tr>\n",
       "    <tr>\n",
       "      <th>193</th>\n",
       "      <td>394</td>\n",
       "      <td>13.055409</td>\n",
       "      <td>0</td>\n",
       "      <td>0</td>\n",
       "    </tr>\n",
       "    <tr>\n",
       "      <th>194</th>\n",
       "      <td>395</td>\n",
       "      <td>41.900151</td>\n",
       "      <td>0</td>\n",
       "      <td>0</td>\n",
       "    </tr>\n",
       "    <tr>\n",
       "      <th>195</th>\n",
       "      <td>396</td>\n",
       "      <td>224.978249</td>\n",
       "      <td>0</td>\n",
       "      <td>0</td>\n",
       "    </tr>\n",
       "    <tr>\n",
       "      <th>196</th>\n",
       "      <td>397</td>\n",
       "      <td>1088.642189</td>\n",
       "      <td>0</td>\n",
       "      <td>0</td>\n",
       "    </tr>\n",
       "    <tr>\n",
       "      <th>197</th>\n",
       "      <td>398</td>\n",
       "      <td>886.553102</td>\n",
       "      <td>0</td>\n",
       "      <td>0</td>\n",
       "    </tr>\n",
       "    <tr>\n",
       "      <th>198</th>\n",
       "      <td>399</td>\n",
       "      <td>92.170206</td>\n",
       "      <td>0</td>\n",
       "      <td>0</td>\n",
       "    </tr>\n",
       "    <tr>\n",
       "      <th>199</th>\n",
       "      <td>400</td>\n",
       "      <td>70.241997</td>\n",
       "      <td>0</td>\n",
       "      <td>0</td>\n",
       "    </tr>\n",
       "  </tbody>\n",
       "</table>\n",
       "<p>200 rows × 4 columns</p>\n",
       "</div>"
      ],
      "text/plain": [
       "      id        score  label  pred\n",
       "0    201  3032.901421      1     1\n",
       "1    202  2825.800440      1     0\n",
       "2    203   322.315761      0     0\n",
       "3    204   249.832438      0     0\n",
       "4    205  1066.581297      0     0\n",
       "5    206   778.965988      0     0\n",
       "6    207   240.276924      1     0\n",
       "7    208  1045.702698      1     0\n",
       "8    209   397.379617      0     0\n",
       "9    210   -52.408452      0     0\n",
       "10   211   361.036634      0     0\n",
       "11   212  1918.060567      0     0\n",
       "12   213    49.521667      0     0\n",
       "13   214  2020.703529      0     0\n",
       "14   215  1706.099572      1     0\n",
       "15   216  -543.845119      0     0\n",
       "16   217   358.744854      0     0\n",
       "17   218   946.326494      0     0\n",
       "18   219  1672.758067      0     0\n",
       "19   220  4211.696112      1     1\n",
       "20   221  -104.514101      0     0\n",
       "21   222  3224.190980      1     1\n",
       "22   223  1029.166362      1     0\n",
       "23   224    47.395369      0     0\n",
       "24   225  2281.484650      0     0\n",
       "25   226   648.114331      0     0\n",
       "26   227   -96.115443      0     0\n",
       "27   228   140.849362      0     0\n",
       "28   229  3735.802988      1     1\n",
       "29   230  2173.351899      1     0\n",
       "..   ...          ...    ...   ...\n",
       "170  371    37.892457      1     0\n",
       "171  372  1111.292641      1     0\n",
       "172  373  2728.677935      1     0\n",
       "173  374   258.288006      0     0\n",
       "174  375  1053.188810      0     0\n",
       "175  376  1100.228745      0     0\n",
       "176  377   168.612909      0     0\n",
       "177  378  1736.132669      0     0\n",
       "178  379    29.891486      0     0\n",
       "179  380  2901.693369      1     1\n",
       "180  381  2936.740308      1     1\n",
       "181  382   977.182488      0     0\n",
       "182  383   515.488902      0     0\n",
       "183  384   256.127819      0     0\n",
       "184  385  -266.199293      0     0\n",
       "185  386  1546.119918      0     0\n",
       "186  387  2192.942126      0     0\n",
       "187  388   -19.872784      0     0\n",
       "188  389  1983.393090      0     0\n",
       "189  390   596.930029      0     0\n",
       "190  391   245.475360      0     0\n",
       "191  392  1718.906069      0     0\n",
       "192  393  3209.317924      1     1\n",
       "193  394    13.055409      0     0\n",
       "194  395    41.900151      0     0\n",
       "195  396   224.978249      0     0\n",
       "196  397  1088.642189      0     0\n",
       "197  398   886.553102      0     0\n",
       "198  399    92.170206      0     0\n",
       "199  400    70.241997      0     0\n",
       "\n",
       "[200 rows x 4 columns]"
      ]
     },
     "execution_count": 102,
     "metadata": {},
     "output_type": "execute_result"
    }
   ],
   "source": [
    "egger_test['pred'] = (egger_test['score'] > egger_train_threshold['score']).astype(int)\n",
    "egger_test"
   ]
  },
  {
   "cell_type": "code",
   "execution_count": 103,
   "metadata": {},
   "outputs": [],
   "source": [
    "egger_test_fnc = ((egger_test['label'] == 1) & (egger_test['pred'] == 0)).sum()\n",
    "egger_test_fpc = ((egger_test['label'] == 0) & (egger_test['pred'] == 1)).sum()"
   ]
  },
  {
   "cell_type": "code",
   "execution_count": 104,
   "metadata": {},
   "outputs": [
    {
     "data": {
      "text/plain": [
       "800.0"
      ]
     },
     "execution_count": 104,
     "metadata": {},
     "output_type": "execute_result"
    }
   ],
   "source": [
    "egger_test_total_cost = egger_test_fnc * fn_cost + egger_test_fpc * fp_cost\n",
    "egger_test_cost_per_event = egger_test_total_cost / len(egger_test)\n",
    "egger_test_cost_per_event"
   ]
  },
  {
   "cell_type": "code",
   "execution_count": 90,
   "metadata": {},
   "outputs": [
    {
     "data": {
      "text/plain": [
       "0.4"
      ]
     },
     "execution_count": 90,
     "metadata": {},
     "output_type": "execute_result"
    }
   ],
   "source": [
    "egger_test_tpr = ((egger_test['label'] == 1) & (egger_test['pred'] == 1)).sum() / (egger_test['label'] == 1).sum()\n",
    "egger_test_tpr"
   ]
  },
  {
   "cell_type": "code",
   "execution_count": null,
   "metadata": {},
   "outputs": [],
   "source": []
  }
 ],
 "metadata": {
  "kernelspec": {
   "display_name": "Python 3",
   "language": "python",
   "name": "python3"
  },
  "language_info": {
   "codemirror_mode": {
    "name": "ipython",
    "version": 3
   },
   "file_extension": ".py",
   "mimetype": "text/x-python",
   "name": "python",
   "nbconvert_exporter": "python",
   "pygments_lexer": "ipython3",
   "version": "3.6.5"
  }
 },
 "nbformat": 4,
 "nbformat_minor": 2
}

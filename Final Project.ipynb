{
 "cells": [
  {
   "cell_type": "code",
   "execution_count": 18,
   "metadata": {},
   "outputs": [],
   "source": [
    "import numpy as np\n",
    "import pandas as pd\n",
    "import matplotlib.pyplot as plt\n",
    "from sklearn.metrics import roc_curve, roc_auc_score"
   ]
  },
  {
   "cell_type": "markdown",
   "metadata": {},
   "source": [
    "# Quiz 1"
   ]
  },
  {
   "cell_type": "markdown",
   "metadata": {},
   "source": [
    "**Q1:** Age + Years at current employer + Years at current address + Income over the past year - Current credit card debt - Current automobile debt"
   ]
  },
  {
   "cell_type": "markdown",
   "metadata": {},
   "source": [
    "**Q2:**"
   ]
  },
  {
   "cell_type": "code",
   "execution_count": 4,
   "metadata": {},
   "outputs": [],
   "source": [
    "train = pd.read_csv('train_final.csv', header=None)"
   ]
  },
  {
   "cell_type": "code",
   "execution_count": 6,
   "metadata": {},
   "outputs": [],
   "source": [
    "train.columns = ['id', 'age', 'employ', 'address', 'income', 'ccdebt', 'cardebt', 'label']"
   ]
  },
  {
   "cell_type": "code",
   "execution_count": 24,
   "metadata": {},
   "outputs": [],
   "source": [
    "train['score'] = train['age'] + train['employ'] + train['address'] + train['income'] - train['ccdebt'] - train['cardebt']"
   ]
  },
  {
   "cell_type": "code",
   "execution_count": 36,
   "metadata": {},
   "outputs": [
    {
     "data": {
      "text/plain": [
       "(50, 150)"
      ]
     },
     "execution_count": 36,
     "metadata": {},
     "output_type": "execute_result"
    }
   ],
   "source": [
    "pos_count = (train['label'] == 1).sum()\n",
    "neg_count = (train['label'] == 0).sum()\n",
    "pos_count, neg_count"
   ]
  },
  {
   "cell_type": "code",
   "execution_count": 30,
   "metadata": {},
   "outputs": [],
   "source": [
    "sorted_labels = list(train.sort_values(by='score', ascending=False)['label'])"
   ]
  },
  {
   "cell_type": "code",
   "execution_count": 43,
   "metadata": {},
   "outputs": [],
   "source": [
    "pos_true = 0\n",
    "pos_false = 0\n",
    "tpr = []\n",
    "fpr = []\n",
    "for index, label in enumerate(sorted_labels):\n",
    "    if label == 1:\n",
    "        pos_true += 1\n",
    "    else:\n",
    "        pos_false += 1\n",
    "    tpr.append(pos_true/pos_count)\n",
    "    fpr.append(pos_false/neg_count)"
   ]
  },
  {
   "cell_type": "code",
   "execution_count": 52,
   "metadata": {},
   "outputs": [
    {
     "data": {
      "text/plain": [
       "(0, 0.05)"
      ]
     },
     "execution_count": 52,
     "metadata": {},
     "output_type": "execute_result"
    },
    {
     "data": {
      "image/png": "[encoded data removed]",
      "text/plain": [
       "<Figure size 432x288 with 1 Axes>"
      ]
     },
     "metadata": {},
     "output_type": "display_data"
    }
   ],
   "source": [
    "plt.scatter(fpr, tpr)\n",
    "plt.xlim([0, 0.1])\n",
    "plt.ylim([0, 0.05])"
   ]
  },
  {
   "cell_type": "code",
   "execution_count": 76,
   "metadata": {},
   "outputs": [
    {
     "data": {
      "text/plain": [
       "0.424"
      ]
     },
     "execution_count": 76,
     "metadata": {},
     "output_type": "execute_result"
    }
   ],
   "source": [
    "auc = sum(pd.Series(fpr).diff(1).fillna(0) * pd.Series(tpr))\n",
    "auc"
   ]
  },
  {
   "cell_type": "code",
   "execution_count": 25,
   "metadata": {},
   "outputs": [
    {
     "data": {
      "text/plain": [
       "0.424"
      ]
     },
     "execution_count": 25,
     "metadata": {},
     "output_type": "execute_result"
    }
   ],
   "source": [
    "roc_auc_score(train['label'], train['score'])"
   ]
  },
  {
   "cell_type": "markdown",
   "metadata": {},
   "source": [
    "**Q3:**"
   ]
  },
  {
   "cell_type": "code",
   "execution_count": 79,
   "metadata": {},
   "outputs": [],
   "source": [
    "def count_pos(sorted_labels):\n",
    "    pos_true = 0\n",
    "    pos_false = 0\n",
    "    pos_true_count = []\n",
    "    pos_false_count = []\n",
    "    for index, label in enumerate(sorted_labels):\n",
    "        if label == 1:\n",
    "            pos_true += 1\n",
    "        else:\n",
    "            pos_false += 1\n",
    "        pos_true_count.append(pos_true)\n",
    "        pos_false_count.append(pos_false)\n",
    "    return pos_true_count, pos_false_count"
   ]
  },
  {
   "cell_type": "code",
   "execution_count": 80,
   "metadata": {},
   "outputs": [],
   "source": [
    "def calculate_auc(df):\n",
    "    df['score'] = df['age'] + df['employ'] + df['address'] + df['income'] - df['ccdebt'] - df['cardebt']\n",
    "    pos_count = (df['label'] == 1).sum()\n",
    "    neg_count = (df['label'] == 0).sum()\n",
    "    print(pos_count, neg_count)\n",
    "    sorted_labels = list(df.sort_values(by='score', ascending=False)['label'])\n",
    "    tpc, fpc = count_pos(sorted_labels)\n",
    "    tpr = [count / pos_count for count in tpc]\n",
    "    fpr = [count / neg_count for count in fpc]\n",
    "    auc = sum(pd.Series(fpr).diff(1).fillna(0) * pd.Series(tpr))\n",
    "    return auc"
   ]
  },
  {
   "cell_type": "code",
   "execution_count": 81,
   "metadata": {},
   "outputs": [],
   "source": [
    "test = pd.read_csv('test_final.csv', header=None)"
   ]
  },
  {
   "cell_type": "code",
   "execution_count": 82,
   "metadata": {},
   "outputs": [],
   "source": [
    "test.columns = ['id', 'age', 'employ', 'address', 'income', 'ccdebt', 'cardebt', 'label']"
   ]
  },
  {
   "cell_type": "code",
   "execution_count": 83,
   "metadata": {
    "scrolled": true
   },
   "outputs": [
    {
     "name": "stdout",
     "output_type": "stream",
     "text": [
      "50 150\n"
     ]
    },
    {
     "data": {
      "text/plain": [
       "0.46253333333333346"
      ]
     },
     "execution_count": 83,
     "metadata": {},
     "output_type": "execute_result"
    }
   ],
   "source": [
    "calculate_auc(test)"
   ]
  },
  {
   "cell_type": "markdown",
   "metadata": {},
   "source": [
    "**Q4:** Find cost minimizing threshold"
   ]
  },
  {
   "cell_type": "code",
   "execution_count": 84,
   "metadata": {},
   "outputs": [],
   "source": [
    "fn_cost = 5000\n",
    "fp_cost = 2500"
   ]
  },
  {
   "cell_type": "code",
   "execution_count": null,
   "metadata": {},
   "outputs": [],
   "source": []
  }
 ],
 "metadata": {
  "kernelspec": {
   "display_name": "Python 3",
   "language": "python",
   "name": "python3"
  },
  "language_info": {
   "codemirror_mode": {
    "name": "ipython",
    "version": 3
   },
   "file_extension": ".py",
   "mimetype": "text/x-python",
   "name": "python",
   "nbconvert_exporter": "python",
   "pygments_lexer": "ipython3",
   "version": "3.6.5"
  }
 },
 "nbformat": 4,
 "nbformat_minor": 2
}
